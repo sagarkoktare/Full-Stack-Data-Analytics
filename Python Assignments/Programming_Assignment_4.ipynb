{
  "cells": [
    {
      "cell_type": "markdown",
      "id": "20cb4340",
      "metadata": {
        "id": "20cb4340"
      },
      "source": [
        "## Programming Assignment_4\n",
        "----------------"
      ]
    },
    {
      "cell_type": "markdown",
      "id": "4fdb6695",
      "metadata": {
        "id": "4fdb6695"
      },
      "source": [
        "### 1. Write a Python Program to Find the Factorial of a Number?"
      ]
    },
    {
      "cell_type": "code",
      "source": [
        "factorial = 1\n",
        "\n",
        "# To take input from the user\n",
        "num = int(input(\"Enter a number: \"))\n",
        "\n",
        "if num < 0:\n",
        "   print(\"Sorry, factorial does not exist for negative numbers\")\n",
        "elif num == 0:\n",
        "   print(\"The factorial of 0 is 1\")\n",
        "else:\n",
        "   for i in range(1,num + 1):\n",
        "       factorial = factorial*i\n",
        "   print(\"The factorial of\",num,\"is : \",factorial)"
      ],
      "metadata": {
        "id": "hOeAnUwS8YPP",
        "colab": {
          "base_uri": "https://localhost:8080/"
        },
        "outputId": "eb3e717a-3a5b-46e0-9362-0a8dfd491e6f"
      },
      "id": "hOeAnUwS8YPP",
      "execution_count": null,
      "outputs": [
        {
          "output_type": "stream",
          "name": "stdout",
          "text": [
            "Enter a number: 5\n",
            "The factorial of 5 is 120\n"
          ]
        }
      ]
    },
    {
      "cell_type": "markdown",
      "id": "e6beef62",
      "metadata": {
        "id": "e6beef62"
      },
      "source": [
        "### 2. Write a Python Program to Display the multiplication Table?"
      ]
    },
    {
      "cell_type": "code",
      "source": [
        "# To take input from the user\n",
        "num = int(float(input(\"Multiplication table of : \")))\n",
        "\n",
        "# Iterate 10 times from i = 1 to 10\n",
        "for i in range(1, 11):\n",
        "   print(num, 'x', i, '=', num*i)"
      ],
      "metadata": {
        "id": "KRlnRPqETMOx",
        "colab": {
          "base_uri": "https://localhost:8080/"
        },
        "outputId": "51f47c01-6237-42d9-af16-1a1473ffade2"
      },
      "id": "KRlnRPqETMOx",
      "execution_count": null,
      "outputs": [
        {
          "output_type": "stream",
          "name": "stdout",
          "text": [
            "Multiplication table of : 10.5\n",
            "10 x 1 = 10\n",
            "10 x 2 = 20\n",
            "10 x 3 = 30\n",
            "10 x 4 = 40\n",
            "10 x 5 = 50\n",
            "10 x 6 = 60\n",
            "10 x 7 = 70\n",
            "10 x 8 = 80\n",
            "10 x 9 = 90\n",
            "10 x 10 = 100\n"
          ]
        }
      ]
    },
    {
      "cell_type": "markdown",
      "id": "7de7eba5",
      "metadata": {
        "id": "7de7eba5"
      },
      "source": [
        "### 3. Write a Python Program to Print the Fibonacci sequence?\n"
      ]
    },
    {
      "cell_type": "code",
      "source": [
        "# Program to display the Fibonacci sequence up to n-th term\n",
        "\n",
        "nterms = int(input(\"How many terms : \"))\n",
        "\n",
        "# first two terms\n",
        "n1, n2 = 0, 1\n",
        "count = 0\n",
        "\n",
        "# check if the number of terms is valid\n",
        "if nterms <= 0:\n",
        "   print(\"Please enter a positive integer\")\n",
        "elif nterms == 1:\n",
        "   print(\"Fibonacci sequence upto\",nterms,\":\")\n",
        "   print(n1)\n",
        "# generate fibonacci sequence\n",
        "else:\n",
        "   print(\"Fibonacci sequence:\")\n",
        "   while count < nterms:\n",
        "       print(n1)\n",
        "       nth = n1 + n2\n",
        "       # update values\n",
        "       n1 = n2\n",
        "       n2 = nth\n",
        "       count += 1"
      ],
      "metadata": {
        "colab": {
          "base_uri": "https://localhost:8080/"
        },
        "id": "O-u073dfbqLE",
        "outputId": "33c08af0-de8c-4710-9616-1531543b2f88"
      },
      "id": "O-u073dfbqLE",
      "execution_count": null,
      "outputs": [
        {
          "output_type": "stream",
          "name": "stdout",
          "text": [
            "How many terms : 12\n",
            "Fibonacci sequence:\n",
            "0\n",
            "1\n",
            "1\n",
            "2\n",
            "3\n",
            "5\n",
            "8\n",
            "13\n",
            "21\n",
            "34\n",
            "55\n",
            "89\n"
          ]
        }
      ]
    },
    {
      "cell_type": "markdown",
      "id": "0446442e",
      "metadata": {
        "id": "0446442e"
      },
      "source": [
        "### 4. Write a Python Program to Check Armstrong Number?"
      ]
    },
    {
      "cell_type": "code",
      "source": [
        "#num = 1634\n",
        "num = int(input(\"Enter a number : \"))\n",
        "\n",
        "# Changed num variable to string, \n",
        "# and calculated the length (number of digits)\n",
        "order = len(str(num))\n",
        "\n",
        "# initialize sum\n",
        "sum = 0\n",
        "\n",
        "# find the sum of the cube of each digit\n",
        "temp = num\n",
        "while temp > 0:\n",
        "   digit = temp % 10\n",
        "   sum += digit ** order\n",
        "   temp //= 10\n",
        "\n",
        "# display the result\n",
        "if num == sum:\n",
        "   print(num,\"is an Armstrong number\")\n",
        "else:\n",
        "   print(num,\"is not an Armstrong number\")\n"
      ],
      "metadata": {
        "colab": {
          "base_uri": "https://localhost:8080/"
        },
        "id": "9LMEzzunge94",
        "outputId": "8734856e-cc1f-4011-dfde-4a8d4f646618"
      },
      "id": "9LMEzzunge94",
      "execution_count": null,
      "outputs": [
        {
          "output_type": "stream",
          "name": "stdout",
          "text": [
            "Enter a number : 153\n",
            "153 is an Armstrong number\n"
          ]
        }
      ]
    },
    {
      "cell_type": "markdown",
      "id": "a6f9adfe",
      "metadata": {
        "id": "a6f9adfe"
      },
      "source": [
        "### 5. Write a Python Program to Find Armstrong Number in an Interval?"
      ]
    },
    {
      "cell_type": "code",
      "source": [
        "# Program to check Armstrong numbers in a certain interval\n",
        "\n",
        "lower_num = int(input(\"Enter lower number : \"))\n",
        "upper_num = int(input(\"Enter upper number : \"))\n",
        "\n",
        "for num in range(lower_num, upper_num + 1):\n",
        "\n",
        "   # order of number\n",
        "   order = len(str(num))\n",
        "    \n",
        "   # initialize sum\n",
        "   sum = 0\n",
        "\n",
        "   temp = num\n",
        "   while temp > 0:\n",
        "       digit = temp % 10\n",
        "       sum += digit ** order\n",
        "       temp //= 10\n",
        "\n",
        "   if num == sum:\n",
        "       print(num)"
      ],
      "metadata": {
        "colab": {
          "base_uri": "https://localhost:8080/"
        },
        "id": "YQuNgdKfj4PL",
        "outputId": "5781a3dd-2cc1-4a95-e1d2-876b5d0c5215"
      },
      "id": "YQuNgdKfj4PL",
      "execution_count": null,
      "outputs": [
        {
          "output_type": "stream",
          "name": "stdout",
          "text": [
            "Enter lower number : 100\n",
            "Enter upper number : 200\n",
            "153\n"
          ]
        }
      ]
    },
    {
      "cell_type": "markdown",
      "source": [],
      "metadata": {
        "id": "qbmbp0_822o1"
      },
      "id": "qbmbp0_822o1"
    },
    {
      "cell_type": "markdown",
      "id": "157cad60",
      "metadata": {
        "id": "157cad60"
      },
      "source": [
        "### 6. Write a Python Program to Find the Sum of Natural Numbers?"
      ]
    },
    {
      "cell_type": "code",
      "source": [
        "# Sum of natural numbers up to num\n",
        "\n",
        "num = int(input(\"Enter a number : \"))\n",
        "\n",
        "if num < 0:\n",
        "   print(\"Enter a positive number\")\n",
        "else:\n",
        "   sum = 0\n",
        "   # use while loop to iterate until zero\n",
        "   while(num > 0):\n",
        "       sum += num\n",
        "       num -= 1\n",
        "   print(\"The sum is\", sum)\n"
      ],
      "metadata": {
        "colab": {
          "base_uri": "https://localhost:8080/"
        },
        "id": "zptf08YQkXdi",
        "outputId": "4f55ccb1-f5b7-44af-d481-47ff233d7ec1"
      },
      "id": "zptf08YQkXdi",
      "execution_count": null,
      "outputs": [
        {
          "output_type": "stream",
          "name": "stdout",
          "text": [
            "Enter a number : 12\n",
            "The sum is 78\n"
          ]
        }
      ]
    },
    {
      "cell_type": "code",
      "source": [],
      "metadata": {
        "id": "DlUhaiIZkg_s"
      },
      "id": "DlUhaiIZkg_s",
      "execution_count": null,
      "outputs": []
    }
  ],
  "metadata": {
    "kernelspec": {
      "display_name": "Python 3 (ipykernel)",
      "language": "python",
      "name": "python3"
    },
    "language_info": {
      "codemirror_mode": {
        "name": "ipython",
        "version": 3
      },
      "file_extension": ".py",
      "mimetype": "text/x-python",
      "name": "python",
      "nbconvert_exporter": "python",
      "pygments_lexer": "ipython3",
      "version": "3.9.12"
    },
    "colab": {
      "provenance": []
    }
  },
  "nbformat": 4,
  "nbformat_minor": 5
}