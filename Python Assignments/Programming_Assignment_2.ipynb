{
  "cells": [
    {
      "cell_type": "markdown",
      "id": "08c66ea5",
      "metadata": {
        "id": "08c66ea5"
      },
      "source": [
        "## Programming Assignment_2\n",
        "-------------"
      ]
    },
    {
      "cell_type": "markdown",
      "id": "4e50cf42",
      "metadata": {
        "id": "4e50cf42"
      },
      "source": [
        "### 1. Write a Python program to convert kilometers to miles?\n"
      ]
    },
    {
      "cell_type": "code",
      "source": [
        "Kl = float(input(\"Enter Kilometer value to convert into Mile : \"))\n",
        "Miles = Kl * 0.621371\n",
        "print(\"Kilometer : \", Kl,\" \\nMiles : \", Miles)"
      ],
      "metadata": {
        "colab": {
          "base_uri": "https://localhost:8080/"
        },
        "id": "RYCsQ6TB8iL_",
        "outputId": "55c2a382-8192-4526-d4c2-a6f744d61a2f"
      },
      "id": "RYCsQ6TB8iL_",
      "execution_count": null,
      "outputs": [
        {
          "output_type": "stream",
          "name": "stdout",
          "text": [
            "Enter Kilometer value to convert into Mile : 1302\n",
            "kilometer :  1302.0  \n",
            "Miles :  809.025042\n"
          ]
        }
      ]
    },
    {
      "cell_type": "markdown",
      "id": "0df4e6bf",
      "metadata": {
        "id": "0df4e6bf"
      },
      "source": [
        "### 2.Write a Python program to convert Celsius to Fahrenheit?"
      ]
    },
    {
      "cell_type": "code",
      "source": [
        "Celcius = float(input(\"Enter Celsius value to convert into Farenheit : \"))\n",
        "Farenheit = (Celcius * 9/5) + 32\n",
        "print(\"Celcius : \", Celcius,\"°C\",\" \\nFarenheit : \", Farenheit,\"°F\")"
      ],
      "metadata": {
        "colab": {
          "base_uri": "https://localhost:8080/"
        },
        "id": "kSjlXNDg9_pA",
        "outputId": "4e268325-5e09-4ca7-e1ef-49beed1a16fd"
      },
      "id": "kSjlXNDg9_pA",
      "execution_count": null,
      "outputs": [
        {
          "output_type": "stream",
          "name": "stdout",
          "text": [
            "Enter Celsius value to convert into Farenheit : 100\n",
            "Celcius :  100.0 °C  \n",
            "Farenheit :  212.0 °F\n"
          ]
        }
      ]
    },
    {
      "cell_type": "markdown",
      "id": "46129b8e",
      "metadata": {
        "id": "46129b8e"
      },
      "source": [
        "### 3. Write a Python program to display calendar?\n"
      ]
    },
    {
      "cell_type": "code",
      "source": [
        "import calendar\n",
        "\n",
        "Year = int(input(\"Enter year: \"))\n",
        "Month = int(input(\"Enter month: \"))\n",
        "\n",
        "# display the calendar\n",
        "print(calendar.month(Year, Month))"
      ],
      "metadata": {
        "colab": {
          "base_uri": "https://localhost:8080/"
        },
        "id": "xP3Cdzbk_Bw9",
        "outputId": "27a5043f-2d95-40a2-cf38-8f53e9619553"
      },
      "id": "xP3Cdzbk_Bw9",
      "execution_count": null,
      "outputs": [
        {
          "output_type": "stream",
          "name": "stdout",
          "text": [
            "Enter year: 2023\n",
            "Enter month: 02\n",
            "   February 2023\n",
            "Mo Tu We Th Fr Sa Su\n",
            "       1  2  3  4  5\n",
            " 6  7  8  9 10 11 12\n",
            "13 14 15 16 17 18 19\n",
            "20 21 22 23 24 25 26\n",
            "27 28\n",
            "\n"
          ]
        }
      ]
    },
    {
      "cell_type": "markdown",
      "id": "db2bf0f7",
      "metadata": {
        "id": "db2bf0f7"
      },
      "source": [
        "### 4. Write a Python program to solve quadratic equation?"
      ]
    },
    {
      "cell_type": "code",
      "source": [
        "# import complex math module\n",
        "import cmath\n",
        "\n",
        "a = float(input(\"Enter 1st variable value : \"))\n",
        "b = float(input(\"Enter 1st variable value : \"))\n",
        "c = float(input(\"Enter 1st variable value : \"))\n",
        "\n",
        "# calculate the discriminant\n",
        "d = (b**2) - (4*a*c)\n",
        "\n",
        "# find two solutions\n",
        "sol1 = (-b-cmath.sqrt(d))/(2*a)\n",
        "sol2 = (-b+cmath.sqrt(d))/(2*a)\n",
        "\n",
        "print('The solution are {0} and {1}'.format(sol1,sol2))"
      ],
      "metadata": {
        "colab": {
          "base_uri": "https://localhost:8080/"
        },
        "id": "hyFr4D8I_xuV",
        "outputId": "44ae77c7-4dc2-4c13-e14d-f012be24857a"
      },
      "id": "hyFr4D8I_xuV",
      "execution_count": null,
      "outputs": [
        {
          "output_type": "stream",
          "name": "stdout",
          "text": [
            "Enter 1st variable value : 23\n",
            "Enter 1st variable value : 45\n",
            "Enter 1st variable value : 12\n",
            "The solution are (-1.6379996045866747+0j) and (-0.31852213454376005+0j)\n"
          ]
        }
      ]
    },
    {
      "cell_type": "markdown",
      "id": "f70f74c9",
      "metadata": {
        "id": "f70f74c9"
      },
      "source": [
        "### 5. Write a Python program to swap two variables without temp variable?"
      ]
    },
    {
      "cell_type": "code",
      "source": [
        "x = input(\"Enter value of x : \")\n",
        "y = input(\"Enter value of y : \")\n",
        " \n",
        "print (\"Before swapping: \")\n",
        "print(\"Value of x : \", x, \" and y : \", y)\n",
        " \n",
        "x, y = y, x\n",
        " \n",
        "print (\"After swapping: \")\n",
        "print(\"Value of x : \", x, \" and y : \", y)"
      ],
      "metadata": {
        "colab": {
          "base_uri": "https://localhost:8080/"
        },
        "id": "gJS6qIV6AbMZ",
        "outputId": "6b7f65c5-d4c1-47a6-ec92-de5d64e65505"
      },
      "id": "gJS6qIV6AbMZ",
      "execution_count": null,
      "outputs": [
        {
          "output_type": "stream",
          "name": "stdout",
          "text": [
            "Enter value of x : sagar\n",
            "Enter value of y : koktare\n",
            "Before swapping: \n",
            "Value of x :  sagar  and y :  koktare\n",
            "After swapping: \n",
            "Value of x :  koktare  and y :  sagar\n"
          ]
        }
      ]
    },
    {
      "cell_type": "code",
      "source": [],
      "metadata": {
        "id": "DK7kFj5zAfdp"
      },
      "id": "DK7kFj5zAfdp",
      "execution_count": null,
      "outputs": []
    }
  ],
  "metadata": {
    "kernelspec": {
      "display_name": "Python 3 (ipykernel)",
      "language": "python",
      "name": "python3"
    },
    "language_info": {
      "codemirror_mode": {
        "name": "ipython",
        "version": 3
      },
      "file_extension": ".py",
      "mimetype": "text/x-python",
      "name": "python",
      "nbconvert_exporter": "python",
      "pygments_lexer": "ipython3",
      "version": "3.9.12"
    },
    "colab": {
      "provenance": []
    }
  },
  "nbformat": 4,
  "nbformat_minor": 5
}